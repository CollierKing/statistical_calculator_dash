{
 "cells": [
  {
   "cell_type": "markdown",
   "metadata": {},
   "source": [
    "# Statistical Calculator"
   ]
  },
  {
   "cell_type": "markdown",
   "metadata": {},
   "source": [
    "https://www.evanmiller.org/ab-testing/"
   ]
  },
  {
   "cell_type": "markdown",
   "metadata": {},
   "source": [
    "## Sample Size Calculator"
   ]
  },
  {
   "cell_type": "markdown",
   "metadata": {},
   "source": [
    "https://stackoverflow.com/questions/15204070/is-there-a-python-scipy-function-to-determine-parameters-needed-to-obtain-a-ta"
   ]
  },
  {
   "cell_type": "code",
   "execution_count": 26,
   "metadata": {
    "collapsed": true
   },
   "outputs": [],
   "source": [
    "from scipy.stats import norm, zscore\n",
    "\n",
    "def sample_power_probtest(p1, p2, power=0.8, sig=0.05):\n",
    "    z = norm.isf([sig/2]) #two-sided t test\n",
    "    zp = -1 * norm.isf([power]) \n",
    "    d = (p1-p2)\n",
    "    s =2*((p1+p2) /2)*(1-((p1+p2) /2))\n",
    "    n = s * ((zp + z)**2) / (d**2)\n",
    "    return int(round(n[0]))\n",
    "\n",
    "def sample_power_difftest(d, s, power=0.8, sig=0.05):\n",
    "    z = norm.isf([sig/2])\n",
    "    zp = -1 * norm.isf([power])\n",
    "    n = s * ((zp + z)**2) / (d**2)\n",
    "    return int(round(n[0]))"
   ]
  },
  {
   "cell_type": "code",
   "execution_count": null,
   "metadata": {
    "collapsed": true
   },
   "outputs": [],
   "source": []
  },
  {
   "cell_type": "code",
   "execution_count": null,
   "metadata": {
    "collapsed": true
   },
   "outputs": [],
   "source": []
  },
  {
   "cell_type": "markdown",
   "metadata": {},
   "source": [
    "## Chi-Squared Test"
   ]
  },
  {
   "cell_type": "markdown",
   "metadata": {},
   "source": [
    "https://stackoverflow.com/questions/26615019/python-proportion-test-similar-to-prop-test-in-r"
   ]
  },
  {
   "cell_type": "code",
   "execution_count": null,
   "metadata": {
    "collapsed": true
   },
   "outputs": [],
   "source": [
    "np.array([100])"
   ]
  },
  {
   "cell_type": "code",
   "execution_count": 10,
   "metadata": {
    "collapsed": true
   },
   "outputs": [],
   "source": [
    "survivors = np.array([[100,14], [100, 20]])"
   ]
  },
  {
   "cell_type": "code",
   "execution_count": 11,
   "metadata": {
    "collapsed": true
   },
   "outputs": [],
   "source": [
    "from scipy import stats\n",
    "import numpy as np\n",
    "\n",
    "# survivors = np.array([[1781,135], [1443, 47]])\n",
    "result = stats.chi2_contingency(survivors)"
   ]
  },
  {
   "cell_type": "code",
   "execution_count": 13,
   "metadata": {},
   "outputs": [
    {
     "data": {
      "text/plain": [
       "(0.58683378482972248,\n",
       " 0.44364609286729395,\n",
       " 1,\n",
       " array([[  97.43589744,   16.56410256],\n",
       "        [ 102.56410256,   17.43589744]]))"
      ]
     },
     "execution_count": 13,
     "metadata": {},
     "output_type": "execute_result"
    }
   ],
   "source": [
    "result[1]"
   ]
  },
  {
   "cell_type": "code",
   "execution_count": 14,
   "metadata": {
    "collapsed": true
   },
   "outputs": [],
   "source": [
    "from statsmodels.stats.proportion import proportions_chisquare"
   ]
  },
  {
   "cell_type": "code",
   "execution_count": 16,
   "metadata": {
    "collapsed": true
   },
   "outputs": [],
   "source": [
    "successes = np.array([14,20])\n",
    "trials = np.array([100,100])"
   ]
  },
  {
   "cell_type": "code",
   "execution_count": 19,
   "metadata": {
    "collapsed": true
   },
   "outputs": [],
   "source": [
    "result = proportions_chisquare(successes,trials)"
   ]
  },
  {
   "cell_type": "code",
   "execution_count": 21,
   "metadata": {},
   "outputs": [
    {
     "data": {
      "text/plain": [
       "0.25870176105718623"
      ]
     },
     "execution_count": 21,
     "metadata": {},
     "output_type": "execute_result"
    }
   ],
   "source": [
    "result[1]"
   ]
  },
  {
   "cell_type": "markdown",
   "metadata": {},
   "source": [
    "### Sample Proportion CI's"
   ]
  },
  {
   "cell_type": "markdown",
   "metadata": {},
   "source": [
    "https://select-statistics.co.uk/calculators/confidence-interval-calculator-population-proportion/\n",
    "    "
   ]
  },
  {
   "cell_type": "code",
   "execution_count": 1,
   "metadata": {
    "collapsed": true
   },
   "outputs": [],
   "source": [
    "from scipy.stats.mstats import zscore\n",
    "samp_prop = 0.14"
   ]
  },
  {
   "cell_type": "code",
   "execution_count": 22,
   "metadata": {},
   "outputs": [
    {
     "data": {
      "text/plain": [
       "2.3263478740408408"
      ]
     },
     "execution_count": 22,
     "metadata": {},
     "output_type": "execute_result"
    }
   ],
   "source": [
    "import numpy as np\n",
    "\n",
    "from scipy.stats import norm\n",
    "norm.ppf(.99)"
   ]
  },
  {
   "cell_type": "code",
   "execution_count": 34,
   "metadata": {
    "collapsed": true
   },
   "outputs": [],
   "source": [
    "sample1_prop = 0.14\n",
    "sample1_trials = 100"
   ]
  },
  {
   "cell_type": "code",
   "execution_count": 35,
   "metadata": {
    "collapsed": true
   },
   "outputs": [],
   "source": [
    "z_score = norm.ppf(1-(1-0.99)/2)"
   ]
  },
  {
   "cell_type": "code",
   "execution_count": 36,
   "metadata": {
    "collapsed": true
   },
   "outputs": [],
   "source": [
    "err1 = (float(z_score))* \\\n",
    "np.sqrt( (sample1_prop * ( 1-sample1_prop))/int(sample1_trials))"
   ]
  },
  {
   "cell_type": "code",
   "execution_count": 39,
   "metadata": {},
   "outputs": [
    {
     "data": {
      "text/plain": [
       "0.089377936358083027"
      ]
     },
     "execution_count": 39,
     "metadata": {},
     "output_type": "execute_result"
    }
   ],
   "source": [
    "err1"
   ]
  },
  {
   "cell_type": "code",
   "execution_count": 38,
   "metadata": {},
   "outputs": [
    {
     "name": "stdout",
     "output_type": "stream",
     "text": [
      "0.0506220636419 0.229377936358\n"
     ]
    }
   ],
   "source": [
    "print(.14-err1,.14+err1)"
   ]
  },
  {
   "cell_type": "code",
   "execution_count": null,
   "metadata": {
    "collapsed": true
   },
   "outputs": [],
   "source": []
  },
  {
   "cell_type": "markdown",
   "metadata": {},
   "source": [
    "## Sequential Sampling"
   ]
  },
  {
   "cell_type": "markdown",
   "metadata": {},
   "source": [
    "## 2 Sample T-Test"
   ]
  },
  {
   "cell_type": "code",
   "execution_count": 83,
   "metadata": {
    "collapsed": true
   },
   "outputs": [],
   "source": [
    "from scipy.stats import ttest_ind, ttest_ind_from_stats"
   ]
  },
  {
   "cell_type": "code",
   "execution_count": 84,
   "metadata": {
    "collapsed": true
   },
   "outputs": [],
   "source": [
    "a = [54,231,554,322,553,111]\n",
    "b = [54,231,554,322,553,111]"
   ]
  },
  {
   "cell_type": "code",
   "execution_count": 85,
   "metadata": {
    "collapsed": true
   },
   "outputs": [],
   "source": [
    "t, p = ttest_ind(a, b, equal_var=False)"
   ]
  },
  {
   "cell_type": "code",
   "execution_count": 86,
   "metadata": {},
   "outputs": [
    {
     "data": {
      "text/plain": [
       "1.0"
      ]
     },
     "execution_count": 86,
     "metadata": {},
     "output_type": "execute_result"
    }
   ],
   "source": [
    "p"
   ]
  },
  {
   "cell_type": "code",
   "execution_count": 92,
   "metadata": {
    "collapsed": true
   },
   "outputs": [],
   "source": [
    "p = np.asarray(a).flatten()"
   ]
  },
  {
   "cell_type": "code",
   "execution_count": 101,
   "metadata": {
    "collapsed": true
   },
   "outputs": [],
   "source": [
    "p = p.reshape(-1, 1)"
   ]
  },
  {
   "cell_type": "code",
   "execution_count": 124,
   "metadata": {
    "collapsed": true
   },
   "outputs": [],
   "source": [
    "from sklearn.neighbors import KernelDensity\n",
    "kde = KernelDensity(kernel='gaussian', bandwidth=0.75).fit(p)"
   ]
  },
  {
   "cell_type": "code",
   "execution_count": 125,
   "metadata": {
    "collapsed": true
   },
   "outputs": [],
   "source": [
    "log_dens = kde.score_samples(p)"
   ]
  },
  {
   "cell_type": "code",
   "execution_count": 142,
   "metadata": {},
   "outputs": [
    {
     "data": {
      "text/plain": [
       "array([[ 54],\n",
       "       [231],\n",
       "       [554],\n",
       "       [322],\n",
       "       [553],\n",
       "       [111]])"
      ]
     },
     "execution_count": 142,
     "metadata": {},
     "output_type": "execute_result"
    }
   ],
   "source": [
    "p"
   ]
  },
  {
   "cell_type": "code",
   "execution_count": 243,
   "metadata": {
    "collapsed": true
   },
   "outputs": [],
   "source": [
    "data1 = [64.2,\n",
    "28.4,\n",
    "85.3,\n",
    "83.1,\n",
    "13.4,\n",
    "56.8,\n",
    "44.2,\n",
    "90]"
   ]
  },
  {
   "cell_type": "code",
   "execution_count": 244,
   "metadata": {
    "collapsed": true
   },
   "outputs": [],
   "source": [
    "data2 = [45,\n",
    "29.5,\n",
    "32.3,\n",
    "49.3,\n",
    "18.3,\n",
    "34.2,\n",
    "43.9,\n",
    "13.8,\n",
    "27.4,\n",
    "43.4]"
   ]
  },
  {
   "cell_type": "code",
   "execution_count": 245,
   "metadata": {},
   "outputs": [
    {
     "data": {
      "text/plain": [
       "18"
      ]
     },
     "execution_count": 245,
     "metadata": {},
     "output_type": "execute_result"
    }
   ],
   "source": [
    "len(data)"
   ]
  },
  {
   "cell_type": "code",
   "execution_count": 199,
   "metadata": {
    "collapsed": true
   },
   "outputs": [],
   "source": [
    "data = np.concatenate((5 + np.random.randn(10, 1),\n",
    "                       10 + np.random.randn(30, 1)))"
   ]
  },
  {
   "cell_type": "code",
   "execution_count": 214,
   "metadata": {
    "collapsed": true
   },
   "outputs": [],
   "source": [
    "data = np.concatenate([data1,data2])\n",
    "data = data.reshape(-1,1)"
   ]
  },
  {
   "cell_type": "code",
   "execution_count": 215,
   "metadata": {},
   "outputs": [
    {
     "data": {
      "text/plain": [
       "(18, 1)"
      ]
     },
     "execution_count": 215,
     "metadata": {},
     "output_type": "execute_result"
    }
   ],
   "source": [
    "data.shape"
   ]
  },
  {
   "cell_type": "code",
   "execution_count": 217,
   "metadata": {},
   "outputs": [
    {
     "data": {
      "image/png": "[encoded data removed]",
      "text/plain": [
       "<matplotlib.figure.Figure at 0x117828320>"
      ]
     },
     "metadata": {},
     "output_type": "display_data"
    }
   ],
   "source": [
    "import numpy as np\n",
    "import matplotlib.pyplot as plt\n",
    "import matplotlib.mlab as mlab\n",
    "from sklearn.neighbors import KernelDensity\n",
    "\n",
    "# Generate random samples from a mixture of 2 Gaussians\n",
    "# with modes at 5 and 10\n",
    "# data = np.concatenate((5 + np.random.randn(10, 1),\n",
    "#                        10 + np.random.randn(30, 1)))\n",
    "\n",
    "# Plot the true distribution\n",
    "x = np.linspace(0, 16, 1000)[:, np.newaxis]\n",
    "# norm_vals = mlab.normpdf(x, 5, 1) * 0.25 + mlab.normpdf(x, 10, 1) * 0.75\n",
    "# plt.plot(x, norm_vals)\n",
    "\n",
    "# Plot the data using a normalized histogram\n",
    "# plt.hist(data, 50, normed=True)\n",
    "\n",
    "# Do kernel density estimation\n",
    "kd = KernelDensity(kernel='gaussian', bandwidth=0.75).fit(data)\n",
    "\n",
    "# Plot the estimated densty\n",
    "kd_vals = np.exp(kd.score_samples(x))\n",
    "plt.plot(x, kd_vals)\n",
    "\n",
    "# Show the plots\n",
    "plt.show()"
   ]
  },
  {
   "cell_type": "code",
   "execution_count": 218,
   "metadata": {
    "collapsed": true
   },
   "outputs": [],
   "source": [
    "prob_under_minus1 = stats.norm.cdf(x= -1,  \n",
    "                                loc = 0,               \n",
    "                                scale= 1)    "
   ]
  },
  {
   "cell_type": "code",
   "execution_count": 219,
   "metadata": {},
   "outputs": [
    {
     "data": {
      "text/plain": [
       "0.15865525393145707"
      ]
     },
     "execution_count": 219,
     "metadata": {},
     "output_type": "execute_result"
    }
   ],
   "source": [
    "prob_under_minus1"
   ]
  },
  {
   "cell_type": "code",
   "execution_count": null,
   "metadata": {
    "collapsed": true
   },
   "outputs": [],
   "source": []
  },
  {
   "cell_type": "markdown",
   "metadata": {},
   "source": [
    "### Example 2"
   ]
  },
  {
   "cell_type": "code",
   "execution_count": 345,
   "metadata": {},
   "outputs": [
    {
     "data": {
      "text/plain": [
       "True"
      ]
     },
     "execution_count": 345,
     "metadata": {},
     "output_type": "execute_result"
    }
   ],
   "source": [
    "mu, sigma = 0, 0.1 # mean and standard deviation\n",
    "s = np.random.normal(mu, sigma, 1000)\n",
    "\n",
    "abs(mu - np.mean(s)) < 0.01\n",
    "\n",
    "abs(sigma - np.std(s, ddof=1)) < 0.01"
   ]
  },
  {
   "cell_type": "code",
   "execution_count": 362,
   "metadata": {},
   "outputs": [
    {
     "data": {
      "text/plain": [
       "array([ 0.03100053,  0.05693114,  0.10039028,  0.16997874,  0.27634949,\n",
       "        0.43140365,  0.64665118,  0.93071655,  1.28625155,  1.70685054,\n",
       "        2.17483434,  2.66083521,  3.12586979,  3.526021  ,  3.81909107,\n",
       "        3.97188112,  3.96637321,  3.80322499,  3.50164059,  3.09565266,\n",
       "        2.62781018,  2.14188852,  1.67633512,  1.25975453,  0.90901725,\n",
       "        0.62982432,  0.41901333,  0.26766856,  0.16418292,  0.0966985 ,\n",
       "        0.05468555])"
      ]
     },
     "execution_count": 362,
     "metadata": {},
     "output_type": "execute_result"
    }
   ],
   "source": [
    "1/(sigma * np.sqrt(2 * np.pi)) * np.exp( - (bins - mu)**2 / (2 * sigma**2)) "
   ]
  },
  {
   "cell_type": "code",
   "execution_count": 366,
   "metadata": {},
   "outputs": [
    {
     "data": {
      "image/png": "[encoded data removed]",
      "text/plain": [
       "<matplotlib.figure.Figure at 0x118f49eb8>"
      ]
     },
     "metadata": {},
     "output_type": "display_data"
    }
   ],
   "source": [
    "import matplotlib.pyplot as plt\n",
    "count, bins, ignored = plt.hist(s, 30, normed=True)\n",
    "plt.plot(bins, 1/(sigma * np.sqrt(2 * np.pi)) *\n",
    "                np.exp( - (bins - mu)**2 / (2 * sigma**2) ),\n",
    "          linewidth=2, color='r')\n",
    "plt.show()"
   ]
  },
  {
   "cell_type": "code",
   "execution_count": null,
   "metadata": {
    "collapsed": true
   },
   "outputs": [],
   "source": []
  },
  {
   "cell_type": "markdown",
   "metadata": {},
   "source": [
    "## Survival Times"
   ]
  },
  {
   "cell_type": "code",
   "execution_count": 248,
   "metadata": {
    "collapsed": true
   },
   "outputs": [],
   "source": [
    "from lifelines.statistics import logrank_test\n",
    "# other_lifetimes = np.random.exponential(3, size=500)\n",
    "\n",
    "\n",
    "x = logrank_test(data1, data2, alpha=0.95)"
   ]
  },
  {
   "cell_type": "code",
   "execution_count": 249,
   "metadata": {},
   "outputs": [
    {
     "data": {
      "text/plain": [
       "[64.2, 28.4, 85.3, 83.1, 13.4, 56.8, 44.2, 90]"
      ]
     },
     "execution_count": 249,
     "metadata": {},
     "output_type": "execute_result"
    }
   ],
   "source": [
    "data1"
   ]
  },
  {
   "cell_type": "code",
   "execution_count": 257,
   "metadata": {},
   "outputs": [
    {
     "data": {
      "text/plain": [
       "array([ 13.4,  28.4,  44.2,  56.8,  64.2,  83.1,  85.3,  90. ])"
      ]
     },
     "execution_count": 257,
     "metadata": {},
     "output_type": "execute_result"
    }
   ],
   "source": [
    "np.sort(data1) "
   ]
  },
  {
   "cell_type": "code",
   "execution_count": 271,
   "metadata": {
    "collapsed": true
   },
   "outputs": [],
   "source": [
    "y1 = []\n",
    "for i in np.sort(data1):\n",
    "    x = 1 - np.compress((i > data1), data1).size/len(data1)\n",
    "    y1.append(x)"
   ]
  },
  {
   "cell_type": "code",
   "execution_count": 272,
   "metadata": {},
   "outputs": [
    {
     "data": {
      "text/plain": [
       "[1.0, 0.875, 0.75, 0.625, 0.5, 0.375, 0.25, 0.125]"
      ]
     },
     "execution_count": 272,
     "metadata": {},
     "output_type": "execute_result"
    }
   ],
   "source": [
    "y1"
   ]
  },
  {
   "cell_type": "code",
   "execution_count": 273,
   "metadata": {
    "collapsed": true
   },
   "outputs": [],
   "source": [
    "y2 = []\n",
    "for i in np.sort(data2):\n",
    "    x = 1 - np.compress((i > data2), data2).size/len(data2)\n",
    "    y2.append(x)"
   ]
  },
  {
   "cell_type": "code",
   "execution_count": 281,
   "metadata": {},
   "outputs": [
    {
     "data": {
      "text/plain": [
       "10"
      ]
     },
     "execution_count": 281,
     "metadata": {},
     "output_type": "execute_result"
    }
   ],
   "source": [
    "len(y2)"
   ]
  },
  {
   "cell_type": "code",
   "execution_count": 280,
   "metadata": {},
   "outputs": [
    {
     "data": {
      "text/plain": [
       "8"
      ]
     },
     "execution_count": 280,
     "metadata": {},
     "output_type": "execute_result"
    }
   ],
   "source": [
    "len(y1)"
   ]
  },
  {
   "cell_type": "code",
   "execution_count": 283,
   "metadata": {},
   "outputs": [
    {
     "data": {
      "text/plain": [
       "[0, 1, 2, 3, 4, 5]"
      ]
     },
     "execution_count": 283,
     "metadata": {},
     "output_type": "execute_result"
    }
   ],
   "source": [
    "np.arange(0,6,1).tolist()"
   ]
  },
  {
   "cell_type": "markdown",
   "metadata": {},
   "source": [
    "## Count Data"
   ]
  },
  {
   "cell_type": "code",
   "execution_count": 19,
   "metadata": {
    "collapsed": true
   },
   "outputs": [],
   "source": [
    "from scipy import stats\n",
    "import numpy as np\n",
    "stats.binom_test(np.array([20,45]), 65)\n",
    "from scipy.stats import beta"
   ]
  },
  {
   "cell_type": "code",
   "execution_count": 20,
   "metadata": {
    "collapsed": true
   },
   "outputs": [],
   "source": [
    "sample1_events = 20\n",
    "sample2_events = 25\n",
    "poisson_confidence_level = 0.95"
   ]
  },
  {
   "cell_type": "code",
   "execution_count": 61,
   "metadata": {
    "collapsed": true
   },
   "outputs": [],
   "source": [
    "# quantile = (1-float(poisson_confidence_level)/2)\n",
    "\n",
    "# sample1_lower = beta.ppf(quantile, float(sample1_events), (float(sample1_events)+float(sample2_events)) - float(sample1_events) + 1)\n",
    "# sample1_upper = beta.ppf(1 - quantile, float(sample1_events) + 1, (float(sample1_events)+float(sample2_events)) - float(sample1_events))\n",
    "\n",
    "# sample2_lower = beta.ppf(quantile, float(sample2_events), (float(sample1_events)+float(sample2_events)) - float(sample2_events) + 1)\n",
    "# sample2_upper = beta.ppf(1 - quantile, float(sample2_events) + 1, (float(sample1_events)+float(sample2_events)) - float(sample2_events))\n",
    "\n",
    "# err1 = sample1_upper - sample1_lower\n",
    "# err2 = sample2_upper - sample2_lower"
   ]
  },
  {
   "cell_type": "code",
   "execution_count": 24,
   "metadata": {},
   "outputs": [
    {
     "data": {
      "text/plain": [
       "0.438439986382132"
      ]
     },
     "execution_count": 24,
     "metadata": {},
     "output_type": "execute_result"
    }
   ],
   "source": [
    "sample1_lower"
   ]
  },
  {
   "cell_type": "code",
   "execution_count": 25,
   "metadata": {},
   "outputs": [
    {
     "data": {
      "text/plain": [
       "0.45125907172464691"
      ]
     },
     "execution_count": 25,
     "metadata": {},
     "output_type": "execute_result"
    }
   ],
   "source": [
    "sample1_upper"
   ]
  },
  {
   "cell_type": "code",
   "execution_count": 64,
   "metadata": {
    "collapsed": true
   },
   "outputs": [],
   "source": [
    "import scipy\n",
    "from scipy.stats import poisson\n",
    "lower, upper = scipy.stats.poisson.interval(0.95, [20, 25])"
   ]
  },
  {
   "cell_type": "code",
   "execution_count": 65,
   "metadata": {
    "collapsed": true
   },
   "outputs": [],
   "source": [
    "poisson_confidence_level = 0.95\n",
    "sample1_events = 20\n",
    "sample2_events = 25"
   ]
  },
  {
   "cell_type": "code",
   "execution_count": 66,
   "metadata": {
    "collapsed": true
   },
   "outputs": [],
   "source": [
    "lower, upper = poisson.interval(float(poisson_confidence_level),\n",
    "    [float(sample1_events),float(sample2_events)])"
   ]
  },
  {
   "cell_type": "code",
   "execution_count": 71,
   "metadata": {},
   "outputs": [
    {
     "data": {
      "text/plain": [
       "17.0"
      ]
     },
     "execution_count": 71,
     "metadata": {},
     "output_type": "execute_result"
    }
   ],
   "source": [
    "upper[0]-lower[0]"
   ]
  },
  {
   "cell_type": "code",
   "execution_count": 72,
   "metadata": {},
   "outputs": [
    {
     "data": {
      "text/plain": [
       "19.0"
      ]
     },
     "execution_count": 72,
     "metadata": {},
     "output_type": "execute_result"
    }
   ],
   "source": [
    "upper[1]-lower[1]"
   ]
  },
  {
   "cell_type": "code",
   "execution_count": 76,
   "metadata": {},
   "outputs": [
    {
     "data": {
      "text/plain": [
       "29.2"
      ]
     },
     "execution_count": 76,
     "metadata": {},
     "output_type": "execute_result"
    }
   ],
   "source": [
    "12.2+17"
   ]
  },
  {
   "cell_type": "code",
   "execution_count": 73,
   "metadata": {},
   "outputs": [
    {
     "data": {
      "text/plain": [
       "35.2"
      ]
     },
     "execution_count": 73,
     "metadata": {},
     "output_type": "execute_result"
    }
   ],
   "source": [
    "16.2+19"
   ]
  },
  {
   "cell_type": "code",
   "execution_count": 74,
   "metadata": {},
   "outputs": [
    {
     "data": {
      "text/plain": [
       "array([ 29.,  35.])"
      ]
     },
     "execution_count": 74,
     "metadata": {},
     "output_type": "execute_result"
    }
   ],
   "source": [
    "upper"
   ]
  },
  {
   "cell_type": "code",
   "execution_count": 75,
   "metadata": {},
   "outputs": [
    {
     "data": {
      "text/plain": [
       "array([ 12.,  16.])"
      ]
     },
     "execution_count": 75,
     "metadata": {},
     "output_type": "execute_result"
    }
   ],
   "source": [
    "lower"
   ]
  },
  {
   "cell_type": "markdown",
   "metadata": {},
   "source": [
    "## Price Elasticity"
   ]
  },
  {
   "cell_type": "code",
   "execution_count": 284,
   "metadata": {
    "collapsed": true
   },
   "outputs": [],
   "source": [
    "new_quantity = 2000\n",
    "original_quantity = 4000\n",
    "new_price = 1\n",
    "original_price = 1.5"
   ]
  },
  {
   "cell_type": "code",
   "execution_count": 285,
   "metadata": {
    "collapsed": true
   },
   "outputs": [],
   "source": [
    "pe = ( (float(new_quantity)-float(original_quantity) ) / (float(new_quantity)+float(original_quantity) ) ) /\\\n",
    "     ( (float(new_price) - float(original_price ) ) / (float(new_price) + float(original_price)))"
   ]
  },
  {
   "cell_type": "code",
   "execution_count": 286,
   "metadata": {},
   "outputs": [
    {
     "data": {
      "text/plain": [
       "1.6666666666666665"
      ]
     },
     "execution_count": 286,
     "metadata": {},
     "output_type": "execute_result"
    }
   ],
   "source": [
    "pe"
   ]
  },
  {
   "cell_type": "code",
   "execution_count": 287,
   "metadata": {
    "collapsed": true
   },
   "outputs": [],
   "source": [
    "newbroiler = pd.read_csv(\"/Users/Collier/Dropbox/Skills/Python/Projects/Business_Exercises/statistical_calculator_dash/newbroiler.csv\")"
   ]
  },
  {
   "cell_type": "code",
   "execution_count": 288,
   "metadata": {},
   "outputs": [
    {
     "data": {
      "text/html": [
       "<div>\n",
       "<style>\n",
       "    .dataframe thead tr:only-child th {\n",
       "        text-align: right;\n",
       "    }\n",
       "\n",
       "    .dataframe thead th {\n",
       "        text-align: left;\n",
       "    }\n",
       "\n",
       "    .dataframe tbody tr th {\n",
       "        vertical-align: top;\n",
       "    }\n",
       "</style>\n",
       "<table border=\"1\" class=\"dataframe\">\n",
       "  <thead>\n",
       "    <tr style=\"text-align: right;\">\n",
       "      <th></th>\n",
       "      <th>Unnamed: 0</th>\n",
       "      <th>year</th>\n",
       "      <th>q</th>\n",
       "      <th>y</th>\n",
       "      <th>p</th>\n",
       "      <th>pb</th>\n",
       "      <th>pcorn</th>\n",
       "      <th>pf</th>\n",
       "      <th>qprod</th>\n",
       "      <th>lexpts</th>\n",
       "      <th>popgro</th>\n",
       "    </tr>\n",
       "  </thead>\n",
       "  <tbody>\n",
       "    <tr>\n",
       "      <th>0</th>\n",
       "      <td>1</td>\n",
       "      <td>1950</td>\n",
       "      <td>14.3</td>\n",
       "      <td>7863</td>\n",
       "      <td>2.88382</td>\n",
       "      <td>1.29461</td>\n",
       "      <td>2.48133</td>\n",
       "      <td>NaN</td>\n",
       "      <td>1826.615723</td>\n",
       "      <td>-0.171839</td>\n",
       "      <td>NaN</td>\n",
       "    </tr>\n",
       "    <tr>\n",
       "      <th>1</th>\n",
       "      <td>2</td>\n",
       "      <td>1951</td>\n",
       "      <td>15.1</td>\n",
       "      <td>7953</td>\n",
       "      <td>2.80385</td>\n",
       "      <td>1.40385</td>\n",
       "      <td>2.77308</td>\n",
       "      <td>NaN</td>\n",
       "      <td>1975.677490</td>\n",
       "      <td>-0.164843</td>\n",
       "      <td>1.7161</td>\n",
       "    </tr>\n",
       "    <tr>\n",
       "      <th>2</th>\n",
       "      <td>3</td>\n",
       "      <td>1952</td>\n",
       "      <td>15.3</td>\n",
       "      <td>8071</td>\n",
       "      <td>2.75849</td>\n",
       "      <td>1.36604</td>\n",
       "      <td>2.69057</td>\n",
       "      <td>NaN</td>\n",
       "      <td>1981.375977</td>\n",
       "      <td>-0.192259</td>\n",
       "      <td>1.7286</td>\n",
       "    </tr>\n",
       "    <tr>\n",
       "      <th>3</th>\n",
       "      <td>4</td>\n",
       "      <td>1953</td>\n",
       "      <td>15.2</td>\n",
       "      <td>8319</td>\n",
       "      <td>2.67041</td>\n",
       "      <td>1.06742</td>\n",
       "      <td>2.34831</td>\n",
       "      <td>NaN</td>\n",
       "      <td>2052.744873</td>\n",
       "      <td>-0.166814</td>\n",
       "      <td>1.6635</td>\n",
       "    </tr>\n",
       "    <tr>\n",
       "      <th>4</th>\n",
       "      <td>5</td>\n",
       "      <td>1954</td>\n",
       "      <td>15.8</td>\n",
       "      <td>8276</td>\n",
       "      <td>2.39405</td>\n",
       "      <td>1.01859</td>\n",
       "      <td>2.35688</td>\n",
       "      <td>NaN</td>\n",
       "      <td>2154.065430</td>\n",
       "      <td>-0.174905</td>\n",
       "      <td>1.7711</td>\n",
       "    </tr>\n",
       "  </tbody>\n",
       "</table>\n",
       "</div>"
      ],
      "text/plain": [
       "   Unnamed: 0  year     q     y        p       pb    pcorn  pf        qprod  \\\n",
       "0           1  1950  14.3  7863  2.88382  1.29461  2.48133 NaN  1826.615723   \n",
       "1           2  1951  15.1  7953  2.80385  1.40385  2.77308 NaN  1975.677490   \n",
       "2           3  1952  15.3  8071  2.75849  1.36604  2.69057 NaN  1981.375977   \n",
       "3           4  1953  15.2  8319  2.67041  1.06742  2.34831 NaN  2052.744873   \n",
       "4           5  1954  15.8  8276  2.39405  1.01859  2.35688 NaN  2154.065430   \n",
       "\n",
       "     lexpts  popgro  \n",
       "0 -0.171839     NaN  \n",
       "1 -0.164843  1.7161  \n",
       "2 -0.192259  1.7286  \n",
       "3 -0.166814  1.6635  \n",
       "4 -0.174905  1.7711  "
      ]
     },
     "execution_count": 288,
     "metadata": {},
     "output_type": "execute_result"
    }
   ],
   "source": [
    "newbroiler.head()"
   ]
  },
  {
   "cell_type": "code",
   "execution_count": 289,
   "metadata": {},
   "outputs": [
    {
     "name": "stderr",
     "output_type": "stream",
     "text": [
      "/Users/Collier/miniconda3/envs/env1/lib/python3.5/site-packages/statsmodels/compat/pandas.py:56: FutureWarning:\n",
      "\n",
      "The pandas.core.datetools module is deprecated and will be removed in a future version. Please use the pandas.tseries module instead.\n",
      "\n"
     ]
    }
   ],
   "source": [
    "import statsmodels.formula.api as smf\n",
    "import statsmodels.api as sm\n",
    "\n",
    "est = sm.OLS(np.log(newbroiler['q']), sm.add_constant(np.log(newbroiler['p']))).fit()"
   ]
  },
  {
   "cell_type": "code",
   "execution_count": 299,
   "metadata": {},
   "outputs": [
    {
     "data": {
      "text/plain": [
       "-1.1213579877617554"
      ]
     },
     "execution_count": 299,
     "metadata": {},
     "output_type": "execute_result"
    }
   ],
   "source": [
    "est.params[1]"
   ]
  },
  {
   "cell_type": "code",
   "execution_count": 304,
   "metadata": {},
   "outputs": [],
   "source": [
    "# list(newbroiler['p'])"
   ]
  },
  {
   "cell_type": "code",
   "execution_count": 305,
   "metadata": {},
   "outputs": [],
   "source": [
    "# list(newbroiler['q'])"
   ]
  },
  {
   "cell_type": "code",
   "execution_count": 306,
   "metadata": {},
   "outputs": [
    {
     "data": {
      "text/plain": [
       "[<matplotlib.lines.Line2D at 0x116d0a4a8>]"
      ]
     },
     "execution_count": 306,
     "metadata": {},
     "output_type": "execute_result"
    },
    {
     "data": {
      "image/png": "[encoded data removed]",
      "text/plain": [
       "<matplotlib.figure.Figure at 0x117ee0dd8>"
      ]
     },
     "metadata": {},
     "output_type": "display_data"
    }
   ],
   "source": [
    "plt.plot(newbroiler['q'], \n",
    "         newbroiler['p'])"
   ]
  },
  {
   "cell_type": "code",
   "execution_count": 309,
   "metadata": {},
   "outputs": [],
   "source": [
    "newbroiler['demand'] = \"\"\n",
    "for idx,row in newbroiler.iterrows():\n",
    "    x = np.sum(newbroiler[newbroiler['p']>=row['p']]['q'])\n",
    "    newbroiler.set_value(idx,'demand',x)"
   ]
  },
  {
   "cell_type": "code",
   "execution_count": 314,
   "metadata": {},
   "outputs": [
    {
     "data": {
      "text/plain": [
       "[<matplotlib.lines.Line2D at 0x11798ccf8>]"
      ]
     },
     "execution_count": 314,
     "metadata": {},
     "output_type": "execute_result"
    },
    {
     "data": {
      "image/png": "[encoded data removed]",
      "text/plain": [
       "<matplotlib.figure.Figure at 0x116d83278>"
      ]
     },
     "metadata": {},
     "output_type": "display_data"
    }
   ],
   "source": [
    "plt.plot(newbroiler['demand'], \n",
    "         newbroiler['p'])"
   ]
  },
  {
   "cell_type": "code",
   "execution_count": 376,
   "metadata": {},
   "outputs": [],
   "source": [
    "newbroiler['demand'] = newbroiler['demand'].astype(float)"
   ]
  },
  {
   "cell_type": "code",
   "execution_count": 377,
   "metadata": {},
   "outputs": [
    {
     "name": "stdout",
     "output_type": "stream",
     "text": [
      "float64\n",
      "float64\n"
     ]
    }
   ],
   "source": [
    "print(newbroiler['q'].dtypes)\n",
    "print(newbroiler['demand'].dtypes)"
   ]
  },
  {
   "cell_type": "code",
   "execution_count": 379,
   "metadata": {},
   "outputs": [
    {
     "data": {
      "text/plain": [
       "[<matplotlib.lines.Line2D at 0x1194fd0b8>]"
      ]
     },
     "execution_count": 379,
     "metadata": {},
     "output_type": "execute_result"
    },
    {
     "data": {
      "image/png": "[encoded data removed]",
      "text/plain": [
       "<matplotlib.figure.Figure at 0x1194bfcf8>"
      ]
     },
     "metadata": {},
     "output_type": "display_data"
    }
   ],
   "source": [
    "plt.plot(np.log(newbroiler['demand']), \n",
    "         np.log(newbroiler['p']))"
   ]
  },
  {
   "cell_type": "code",
   "execution_count": 380,
   "metadata": {},
   "outputs": [
    {
     "data": {
      "text/plain": [
       "[<matplotlib.lines.Line2D at 0x119875438>]"
      ]
     },
     "execution_count": 380,
     "metadata": {},
     "output_type": "execute_result"
    },
    {
     "data": {
      "image/png": "[encoded data removed]",
      "text/plain": [
       "<matplotlib.figure.Figure at 0x1197755f8>"
      ]
     },
     "metadata": {},
     "output_type": "display_data"
    }
   ],
   "source": [
    "plt.plot(np.log(newbroiler['q']), \n",
    "         np.log(newbroiler['p']))"
   ]
  },
  {
   "cell_type": "code",
   "execution_count": 383,
   "metadata": {},
   "outputs": [
    {
     "data": {
      "text/plain": [
       "0     1.059116\n",
       "1     1.030993\n",
       "2     1.014683\n",
       "3     0.982232\n",
       "4     0.872986\n",
       "5     0.916291\n",
       "6     0.770923\n",
       "7     0.712533\n",
       "8     0.672169\n",
       "9     0.572786\n",
       "10    0.571132\n",
       "11    0.460761\n",
       "12    0.504182\n",
       "13    0.476923\n",
       "14    0.441373\n",
       "15    0.458026\n",
       "16    0.486455\n",
       "17    0.379176\n",
       "18    0.386119\n",
       "19    0.388054\n",
       "20    0.300490\n",
       "21    0.267099\n",
       "22    0.244913\n",
       "23    0.551866\n",
       "24    0.382899\n",
       "25    0.414101\n",
       "26    0.301208\n",
       "27    0.243401\n",
       "28    0.272223\n",
       "29    0.183238\n",
       "30    0.135955\n",
       "31    0.059787\n",
       "32   -0.017777\n",
       "33   -0.033691\n",
       "34    0.047923\n",
       "35   -0.029233\n",
       "36    0.051567\n",
       "37   -0.002643\n",
       "38    0.055889\n",
       "39    0.100433\n",
       "40    0.031625\n",
       "41   -0.033598\n",
       "42   -0.061737\n",
       "43   -0.046023\n",
       "44   -0.056211\n",
       "45   -0.069275\n",
       "46   -0.027793\n",
       "47   -0.012538\n",
       "48   -0.021081\n",
       "49   -0.029233\n",
       "50   -0.055523\n",
       "51   -0.052747\n",
       "Name: p, dtype: float64"
      ]
     },
     "execution_count": 383,
     "metadata": {},
     "output_type": "execute_result"
    }
   ],
   "source": [
    "np.log(newbroiler['p'])"
   ]
  },
  {
   "cell_type": "code",
   "execution_count": 321,
   "metadata": {
    "collapsed": true
   },
   "outputs": [],
   "source": [
    "p1 = list(newbroiler['p'])\n",
    "p2 = list(newbroiler['q'])"
   ]
  },
  {
   "cell_type": "code",
   "execution_count": 325,
   "metadata": {},
   "outputs": [
    {
     "data": {
      "text/html": [
       "<div>\n",
       "<style>\n",
       "    .dataframe thead tr:only-child th {\n",
       "        text-align: right;\n",
       "    }\n",
       "\n",
       "    .dataframe thead th {\n",
       "        text-align: left;\n",
       "    }\n",
       "\n",
       "    .dataframe tbody tr th {\n",
       "        vertical-align: top;\n",
       "    }\n",
       "</style>\n",
       "<table border=\"1\" class=\"dataframe\">\n",
       "  <thead>\n",
       "    <tr style=\"text-align: right;\">\n",
       "      <th></th>\n",
       "      <th>quantity</th>\n",
       "      <th>price</th>\n",
       "    </tr>\n",
       "  </thead>\n",
       "  <tbody>\n",
       "    <tr>\n",
       "      <th>0</th>\n",
       "      <td>14.300000</td>\n",
       "      <td>2.88382</td>\n",
       "    </tr>\n",
       "    <tr>\n",
       "      <th>1</th>\n",
       "      <td>15.100000</td>\n",
       "      <td>2.80385</td>\n",
       "    </tr>\n",
       "    <tr>\n",
       "      <th>2</th>\n",
       "      <td>15.300000</td>\n",
       "      <td>2.75849</td>\n",
       "    </tr>\n",
       "    <tr>\n",
       "      <th>3</th>\n",
       "      <td>15.200000</td>\n",
       "      <td>2.67041</td>\n",
       "    </tr>\n",
       "    <tr>\n",
       "      <th>4</th>\n",
       "      <td>15.800000</td>\n",
       "      <td>2.39405</td>\n",
       "    </tr>\n",
       "    <tr>\n",
       "      <th>5</th>\n",
       "      <td>14.700000</td>\n",
       "      <td>2.50000</td>\n",
       "    </tr>\n",
       "    <tr>\n",
       "      <th>6</th>\n",
       "      <td>16.799999</td>\n",
       "      <td>2.16176</td>\n",
       "    </tr>\n",
       "    <tr>\n",
       "      <th>7</th>\n",
       "      <td>17.600000</td>\n",
       "      <td>2.03915</td>\n",
       "    </tr>\n",
       "    <tr>\n",
       "      <th>8</th>\n",
       "      <td>19.299999</td>\n",
       "      <td>1.95848</td>\n",
       "    </tr>\n",
       "    <tr>\n",
       "      <th>9</th>\n",
       "      <td>19.799999</td>\n",
       "      <td>1.77320</td>\n",
       "    </tr>\n",
       "    <tr>\n",
       "      <th>10</th>\n",
       "      <td>19.200001</td>\n",
       "      <td>1.77027</td>\n",
       "    </tr>\n",
       "    <tr>\n",
       "      <th>11</th>\n",
       "      <td>20.600000</td>\n",
       "      <td>1.58528</td>\n",
       "    </tr>\n",
       "    <tr>\n",
       "      <th>12</th>\n",
       "      <td>20.600000</td>\n",
       "      <td>1.65563</td>\n",
       "    </tr>\n",
       "    <tr>\n",
       "      <th>13</th>\n",
       "      <td>21.100000</td>\n",
       "      <td>1.61111</td>\n",
       "    </tr>\n",
       "    <tr>\n",
       "      <th>14</th>\n",
       "      <td>21.299999</td>\n",
       "      <td>1.55484</td>\n",
       "    </tr>\n",
       "    <tr>\n",
       "      <th>15</th>\n",
       "      <td>22.900000</td>\n",
       "      <td>1.58095</td>\n",
       "    </tr>\n",
       "    <tr>\n",
       "      <th>16</th>\n",
       "      <td>24.500000</td>\n",
       "      <td>1.62654</td>\n",
       "    </tr>\n",
       "    <tr>\n",
       "      <th>17</th>\n",
       "      <td>25.100000</td>\n",
       "      <td>1.46108</td>\n",
       "    </tr>\n",
       "    <tr>\n",
       "      <th>18</th>\n",
       "      <td>25.200001</td>\n",
       "      <td>1.47126</td>\n",
       "    </tr>\n",
       "    <tr>\n",
       "      <th>19</th>\n",
       "      <td>26.299999</td>\n",
       "      <td>1.47411</td>\n",
       "    </tr>\n",
       "    <tr>\n",
       "      <th>20</th>\n",
       "      <td>27.400000</td>\n",
       "      <td>1.35052</td>\n",
       "    </tr>\n",
       "    <tr>\n",
       "      <th>21</th>\n",
       "      <td>27.400000</td>\n",
       "      <td>1.30617</td>\n",
       "    </tr>\n",
       "    <tr>\n",
       "      <th>22</th>\n",
       "      <td>28.299999</td>\n",
       "      <td>1.27751</td>\n",
       "    </tr>\n",
       "    <tr>\n",
       "      <th>23</th>\n",
       "      <td>27.100000</td>\n",
       "      <td>1.73649</td>\n",
       "    </tr>\n",
       "    <tr>\n",
       "      <th>24</th>\n",
       "      <td>27.000000</td>\n",
       "      <td>1.46653</td>\n",
       "    </tr>\n",
       "    <tr>\n",
       "      <th>25</th>\n",
       "      <td>26.400000</td>\n",
       "      <td>1.51301</td>\n",
       "    </tr>\n",
       "    <tr>\n",
       "      <th>26</th>\n",
       "      <td>28.500000</td>\n",
       "      <td>1.35149</td>\n",
       "    </tr>\n",
       "    <tr>\n",
       "      <th>27</th>\n",
       "      <td>29.000000</td>\n",
       "      <td>1.27558</td>\n",
       "    </tr>\n",
       "    <tr>\n",
       "      <th>28</th>\n",
       "      <td>30.400000</td>\n",
       "      <td>1.31288</td>\n",
       "    </tr>\n",
       "    <tr>\n",
       "      <th>29</th>\n",
       "      <td>32.799999</td>\n",
       "      <td>1.20110</td>\n",
       "    </tr>\n",
       "    <tr>\n",
       "      <th>30</th>\n",
       "      <td>32.700001</td>\n",
       "      <td>1.14563</td>\n",
       "    </tr>\n",
       "    <tr>\n",
       "      <th>31</th>\n",
       "      <td>33.700001</td>\n",
       "      <td>1.06161</td>\n",
       "    </tr>\n",
       "    <tr>\n",
       "      <th>32</th>\n",
       "      <td>33.900002</td>\n",
       "      <td>0.98238</td>\n",
       "    </tr>\n",
       "    <tr>\n",
       "      <th>33</th>\n",
       "      <td>34.000000</td>\n",
       "      <td>0.96687</td>\n",
       "    </tr>\n",
       "    <tr>\n",
       "      <th>34</th>\n",
       "      <td>35.299999</td>\n",
       "      <td>1.04909</td>\n",
       "    </tr>\n",
       "    <tr>\n",
       "      <th>35</th>\n",
       "      <td>36.400002</td>\n",
       "      <td>0.97119</td>\n",
       "    </tr>\n",
       "    <tr>\n",
       "      <th>36</th>\n",
       "      <td>37.200001</td>\n",
       "      <td>1.05292</td>\n",
       "    </tr>\n",
       "    <tr>\n",
       "      <th>37</th>\n",
       "      <td>39.400002</td>\n",
       "      <td>0.99736</td>\n",
       "    </tr>\n",
       "    <tr>\n",
       "      <th>38</th>\n",
       "      <td>39.599998</td>\n",
       "      <td>1.05748</td>\n",
       "    </tr>\n",
       "    <tr>\n",
       "      <th>39</th>\n",
       "      <td>40.900002</td>\n",
       "      <td>1.10565</td>\n",
       "    </tr>\n",
       "    <tr>\n",
       "      <th>40</th>\n",
       "      <td>42.400002</td>\n",
       "      <td>1.03213</td>\n",
       "    </tr>\n",
       "    <tr>\n",
       "      <th>41</th>\n",
       "      <td>44.099998</td>\n",
       "      <td>0.96696</td>\n",
       "    </tr>\n",
       "    <tr>\n",
       "      <th>42</th>\n",
       "      <td>46.500000</td>\n",
       "      <td>0.94013</td>\n",
       "    </tr>\n",
       "    <tr>\n",
       "      <th>43</th>\n",
       "      <td>48.200001</td>\n",
       "      <td>0.95502</td>\n",
       "    </tr>\n",
       "    <tr>\n",
       "      <th>44</th>\n",
       "      <td>48.799999</td>\n",
       "      <td>0.94534</td>\n",
       "    </tr>\n",
       "    <tr>\n",
       "      <th>45</th>\n",
       "      <td>48.200001</td>\n",
       "      <td>0.93307</td>\n",
       "    </tr>\n",
       "    <tr>\n",
       "      <th>46</th>\n",
       "      <td>48.799999</td>\n",
       "      <td>0.97259</td>\n",
       "    </tr>\n",
       "    <tr>\n",
       "      <th>47</th>\n",
       "      <td>49.500000</td>\n",
       "      <td>0.98754</td>\n",
       "    </tr>\n",
       "    <tr>\n",
       "      <th>48</th>\n",
       "      <td>49.799999</td>\n",
       "      <td>0.97914</td>\n",
       "    </tr>\n",
       "    <tr>\n",
       "      <th>49</th>\n",
       "      <td>52.900002</td>\n",
       "      <td>0.97119</td>\n",
       "    </tr>\n",
       "    <tr>\n",
       "      <th>50</th>\n",
       "      <td>53.200001</td>\n",
       "      <td>0.94599</td>\n",
       "    </tr>\n",
       "    <tr>\n",
       "      <th>51</th>\n",
       "      <td>53.900002</td>\n",
       "      <td>0.94862</td>\n",
       "    </tr>\n",
       "  </tbody>\n",
       "</table>\n",
       "</div>"
      ],
      "text/plain": [
       "     quantity    price\n",
       "0   14.300000  2.88382\n",
       "1   15.100000  2.80385\n",
       "2   15.300000  2.75849\n",
       "3   15.200000  2.67041\n",
       "4   15.800000  2.39405\n",
       "5   14.700000  2.50000\n",
       "6   16.799999  2.16176\n",
       "7   17.600000  2.03915\n",
       "8   19.299999  1.95848\n",
       "9   19.799999  1.77320\n",
       "10  19.200001  1.77027\n",
       "11  20.600000  1.58528\n",
       "12  20.600000  1.65563\n",
       "13  21.100000  1.61111\n",
       "14  21.299999  1.55484\n",
       "15  22.900000  1.58095\n",
       "16  24.500000  1.62654\n",
       "17  25.100000  1.46108\n",
       "18  25.200001  1.47126\n",
       "19  26.299999  1.47411\n",
       "20  27.400000  1.35052\n",
       "21  27.400000  1.30617\n",
       "22  28.299999  1.27751\n",
       "23  27.100000  1.73649\n",
       "24  27.000000  1.46653\n",
       "25  26.400000  1.51301\n",
       "26  28.500000  1.35149\n",
       "27  29.000000  1.27558\n",
       "28  30.400000  1.31288\n",
       "29  32.799999  1.20110\n",
       "30  32.700001  1.14563\n",
       "31  33.700001  1.06161\n",
       "32  33.900002  0.98238\n",
       "33  34.000000  0.96687\n",
       "34  35.299999  1.04909\n",
       "35  36.400002  0.97119\n",
       "36  37.200001  1.05292\n",
       "37  39.400002  0.99736\n",
       "38  39.599998  1.05748\n",
       "39  40.900002  1.10565\n",
       "40  42.400002  1.03213\n",
       "41  44.099998  0.96696\n",
       "42  46.500000  0.94013\n",
       "43  48.200001  0.95502\n",
       "44  48.799999  0.94534\n",
       "45  48.200001  0.93307\n",
       "46  48.799999  0.97259\n",
       "47  49.500000  0.98754\n",
       "48  49.799999  0.97914\n",
       "49  52.900002  0.97119\n",
       "50  53.200001  0.94599\n",
       "51  53.900002  0.94862"
      ]
     },
     "execution_count": 325,
     "metadata": {},
     "output_type": "execute_result"
    }
   ],
   "source": [
    "df = pd.DataFrame(p1,p2).reset_index()\n",
    "df.columns = [\"quantity\",\"price\"]\n",
    "df"
   ]
  },
  {
   "cell_type": "markdown",
   "metadata": {},
   "source": [
    "## Pearson Correlation"
   ]
  },
  {
   "cell_type": "code",
   "execution_count": 338,
   "metadata": {},
   "outputs": [
    {
     "data": {
      "text/plain": [
       "-0.84292996329217118"
      ]
     },
     "execution_count": 338,
     "metadata": {},
     "output_type": "execute_result"
    }
   ],
   "source": [
    "np.corrcoef(p1, p2)[0,1]"
   ]
  },
  {
   "cell_type": "code",
   "execution_count": 344,
   "metadata": {},
   "outputs": [
    {
     "data": {
      "text/plain": [
       "-0.84292996329217118"
      ]
     },
     "execution_count": 344,
     "metadata": {},
     "output_type": "execute_result"
    }
   ],
   "source": [
    "df.corr(method=\"pearson\").iloc[0,1]"
   ]
  },
  {
   "cell_type": "markdown",
   "metadata": {},
   "source": [
    "# Financial Calculator"
   ]
  },
  {
   "cell_type": "code",
   "execution_count": 422,
   "metadata": {
    "collapsed": true
   },
   "outputs": [],
   "source": [
    "discount_rate= 0.1\n",
    "growth_rate= 0.05\n",
    "pmt_amt= 10000\n",
    "num_periods= 30\n",
    "calc_type= \"PV_A\""
   ]
  },
  {
   "cell_type": "markdown",
   "metadata": {},
   "source": [
    "## PV of Annuity"
   ]
  },
  {
   "cell_type": "code",
   "execution_count": 387,
   "metadata": {
    "collapsed": true
   },
   "outputs": [],
   "source": [
    "def update_fincalc(discount_rate,growth_rate,\n",
    "                        pmt_amt,num_periods,calc_type):\n",
    "    \n",
    "    if calc_type == \"PV_A\":\n",
    "        result = float(pmt_amt) * (1/float(discount_rate)) * (1 - (1/(1+float(discount_rate)**float(num_periods))))\n",
    "\n",
    "    return result"
   ]
  },
  {
   "cell_type": "code",
   "execution_count": 399,
   "metadata": {},
   "outputs": [],
   "source": [
    "x = update_fincalc(discount_rate,growth_rate,\n",
    "                        pmt_amt,num_periods,calc_type)"
   ]
  },
  {
   "cell_type": "code",
   "execution_count": 401,
   "metadata": {},
   "outputs": [
    {
     "data": {
      "text/plain": [
       "443.1625818224407"
      ]
     },
     "execution_count": 401,
     "metadata": {},
     "output_type": "execute_result"
    }
   ],
   "source": [
    "float(pmt_amt) * (1/float(discount_rate)) * (1 - (1/(1+float(discount_rate))**float(num_periods)))"
   ]
  },
  {
   "cell_type": "markdown",
   "metadata": {},
   "source": [
    "## PV of Growing Annuity"
   ]
  },
  {
   "cell_type": "code",
   "execution_count": 418,
   "metadata": {},
   "outputs": [
    {
     "data": {
      "text/plain": [
       "150463.14700582038"
      ]
     },
     "execution_count": 418,
     "metadata": {},
     "output_type": "execute_result"
    }
   ],
   "source": [
    "pmt_amt * (1/(discount_rate-growth_rate) * (1 - ((1+growth_rate)/(1+discount_rate))**num_periods))"
   ]
  },
  {
   "cell_type": "code",
   "execution_count": 413,
   "metadata": {},
   "outputs": [
    {
     "data": {
      "text/plain": [
       "150463.14700582038"
      ]
     },
     "execution_count": 413,
     "metadata": {},
     "output_type": "execute_result"
    }
   ],
   "source": [
    "float(10000) * (1/(float(0.10)-float(0.05)) * (1 - ((1.05)/(1.10))**30))"
   ]
  },
  {
   "cell_type": "code",
   "execution_count": 410,
   "metadata": {},
   "outputs": [
    {
     "data": {
      "text/plain": [
       "150463.14700582038"
      ]
     },
     "execution_count": 410,
     "metadata": {},
     "output_type": "execute_result"
    }
   ],
   "source": [
    "10000 * (1/(0.10-0.05)) * (1 - (1.05/1.10)**30)"
   ]
  },
  {
   "cell_type": "markdown",
   "metadata": {},
   "source": [
    "## PV of Perpetuity"
   ]
  },
  {
   "cell_type": "code",
   "execution_count": 423,
   "metadata": {},
   "outputs": [
    {
     "data": {
      "text/plain": [
       "100000.0"
      ]
     },
     "execution_count": 423,
     "metadata": {},
     "output_type": "execute_result"
    }
   ],
   "source": [
    "pmt_amt/discount_rate"
   ]
  },
  {
   "cell_type": "markdown",
   "metadata": {},
   "source": [
    "## PV of Growing Perpetuity"
   ]
  },
  {
   "cell_type": "code",
   "execution_count": 425,
   "metadata": {},
   "outputs": [
    {
     "data": {
      "text/plain": [
       "200000.0"
      ]
     },
     "execution_count": 425,
     "metadata": {},
     "output_type": "execute_result"
    }
   ],
   "source": [
    "pmt_amt/(discount_rate - growth_rate)"
   ]
  },
  {
   "cell_type": "markdown",
   "metadata": {},
   "source": [
    "## FV of annuity"
   ]
  },
  {
   "cell_type": "code",
   "execution_count": 427,
   "metadata": {},
   "outputs": [
    {
     "data": {
      "text/plain": [
       "1644940.2268886447"
      ]
     },
     "execution_count": 427,
     "metadata": {},
     "output_type": "execute_result"
    }
   ],
   "source": [
    "10000 * (1/0.1) * ((1+0.1)**30 - 1)"
   ]
  },
  {
   "cell_type": "code",
   "execution_count": 429,
   "metadata": {},
   "outputs": [
    {
     "data": {
      "text/plain": [
       "1644940.2268886447"
      ]
     },
     "execution_count": 429,
     "metadata": {},
     "output_type": "execute_result"
    }
   ],
   "source": [
    "10000 * (1/discount_rate) * ((1+discount_rate)**num_periods - 1)"
   ]
  },
  {
   "cell_type": "code",
   "execution_count": null,
   "metadata": {
    "collapsed": true
   },
   "outputs": [],
   "source": []
  }
 ],
 "metadata": {
  "kernelspec": {
   "display_name": "Python [conda env:env1]",
   "language": "python",
   "name": "conda-env-env1-py"
  },
  "language_info": {
   "codemirror_mode": {
    "name": "ipython",
    "version": 3
   },
   "file_extension": ".py",
   "mimetype": "text/x-python",
   "name": "python",
   "nbconvert_exporter": "python",
   "pygments_lexer": "ipython3",
   "version": "3.5.2"
  },
  "toc": {
   "colors": {
    "hover_highlight": "#DAA520",
    "navigate_num": "#000000",
    "navigate_text": "#333333",
    "running_highlight": "#FF0000",
    "selected_highlight": "#FFD700",
    "sidebar_border": "#EEEEEE",
    "wrapper_background": "#FFFFFF"
   },
   "moveMenuLeft": true,
   "nav_menu": {
    "height": "139px",
    "width": "252px"
   },
   "navigate_menu": true,
   "number_sections": true,
   "sideBar": true,
   "threshold": 4,
   "toc_cell": false,
   "toc_position": {
    "height": "532px",
    "left": "0px",
    "right": "879px",
    "top": "136px",
    "width": "212px"
   },
   "toc_section_display": "block",
   "toc_window_display": true,
   "widenNotebook": false
  }
 },
 "nbformat": 4,
 "nbformat_minor": 2
}
